{
  "nbformat": 4,
  "nbformat_minor": 0,
  "metadata": {
    "colab": {
      "provenance": []
    },
    "kernelspec": {
      "name": "python3",
      "display_name": "Python 3"
    },
    "language_info": {
      "name": "python"
    }
  },
  "cells": [
    {
      "cell_type": "code",
      "execution_count": null,
      "metadata": {
        "colab": {
          "base_uri": "https://localhost:8080/"
        },
        "id": "jCWM3fqD79mi",
        "outputId": "b3bf40c0-fa1c-4462-c5d0-11900f03bbad"
      },
      "outputs": [
        {
          "output_type": "stream",
          "name": "stdout",
          "text": [
            "hello world\n"
          ]
        }
      ],
      "source": [
        "print (\"hello world\")"
      ]
    },
    {
      "cell_type": "code",
      "source": [
        "a=58\n",
        "b=36\n",
        "c=a+b\n",
        "print(\"sum of the\",c)"
      ],
      "metadata": {
        "colab": {
          "base_uri": "https://localhost:8080/"
        },
        "id": "ZM0E8sQe8APc",
        "outputId": "7e816e08-45fa-4ed8-a3b8-209378e3ca10"
      },
      "execution_count": null,
      "outputs": [
        {
          "output_type": "stream",
          "name": "stdout",
          "text": [
            "sum of the 94\n"
          ]
        }
      ]
    },
    {
      "cell_type": "code",
      "source": [
        "a=int(input(\"enter first no:\"))\n",
        "b=int(input(\"enter first no:\"))\n",
        "c=a*b\n",
        "print(\"result=\",c)"
      ],
      "metadata": {
        "colab": {
          "base_uri": "https://localhost:8080/"
        },
        "id": "BcJD3Mfx8AXZ",
        "outputId": "a766c536-8fb9-42b7-958e-968a112fa4e9"
      },
      "execution_count": null,
      "outputs": [
        {
          "output_type": "stream",
          "name": "stdout",
          "text": [
            "enter first no:75\n",
            "enter first no:6\n",
            "result= 450\n"
          ]
        }
      ]
    },
    {
      "cell_type": "code",
      "source": [],
      "metadata": {
        "id": "xsjQ9Egp8Auh"
      },
      "execution_count": null,
      "outputs": []
    }
  ]
}